{
 "cells": [
  {
   "cell_type": "markdown",
   "metadata": {},
   "source": [
    "##### Imports"
   ]
  },
  {
   "cell_type": "code",
   "execution_count": 1,
   "metadata": {},
   "outputs": [
    {
     "data": {
      "text/plain": [
       "True"
      ]
     },
     "execution_count": 1,
     "metadata": {},
     "output_type": "execute_result"
    }
   ],
   "source": [
    "from dotenv import load_dotenv\n",
    "load_dotenv()"
   ]
  },
  {
   "cell_type": "markdown",
   "metadata": {},
   "source": [
    "# Text Extraction"
   ]
  },
  {
   "cell_type": "code",
   "execution_count": 6,
   "metadata": {},
   "outputs": [],
   "source": [
    "import fitz \n",
    "textbook_path = \"textbook_v2.pdf\"\n",
    "def extract_text_from_pdf(pdf_path):\n",
    "    document = fitz.open(pdf_path)\n",
    "    text = \"\"\n",
    "    for page in document:\n",
    "        text += page.get_text()\n",
    "    document.close()\n",
    "    return text\n",
    "\n",
    "# If textbook_as_text.txt exists, load it, otherwise extract text from the pdf\n",
    "try:\n",
    "    with open('textbook_as_text.txt', 'r', encoding=\"utf-8\") as file:\n",
    "        pdf_text = file.read()\n",
    "except FileNotFoundError:\n",
    "    pdf_text = extract_text_from_pdf(textbook_path)\n",
    "\n",
    "    with open('textbook_as_text.txt', 'w', encoding=\"utf-8\") as file:\n",
    "        file.write(pdf_text)"
   ]
  }
 ],
 "metadata": {
  "kernelspec": {
   "display_name": "Python 3",
   "language": "python",
   "name": "python3"
  },
  "language_info": {
   "codemirror_mode": {
    "name": "ipython",
    "version": 3
   },
   "file_extension": ".py",
   "mimetype": "text/x-python",
   "name": "python",
   "nbconvert_exporter": "python",
   "pygments_lexer": "ipython3",
   "version": "3.11.5"
  }
 },
 "nbformat": 4,
 "nbformat_minor": 2
}
